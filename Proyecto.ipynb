{
 "cells": [
  {
   "cell_type": "markdown",
   "metadata": {},
   "source": [
    "<img src=\"https://lies.mat.uc.cl/wp-content/uploads/2017/09/logo-uc-lineal-azul.png\" width=\"300px\" alt=\"puc logo\">\n",
    "\n",
    "<hr>\n",
    "<h3 align=\"center\"> Proyecto: Tópicos Avanzados en Inteligencia de Máquina </h3>\n",
    "<h3 align=\"center\"> Estudiantes: Fernanda Weiss - Ignacio Espinoza (18406882)</h3>\n",
    "<hr>\n",
    "\n",
    "### Objetivos:\n",
    "- Para la segunda etapa\n",
    "(Avances), usted deberá presentar al menos listo el pre-processamiento necesario de los datos, junto con\n",
    "la implementación inicial del modelo y las primeras pruebas experimentales"
   ]
  },
  {
   "cell_type": "code",
   "execution_count": 1,
   "metadata": {},
   "outputs": [],
   "source": [
    "import numpy\n",
    "import pandas as pd\n",
    "import matplotlib.pyplot as plt"
   ]
  },
  {
   "cell_type": "code",
   "execution_count": 2,
   "metadata": {},
   "outputs": [
    {
     "name": "stdout",
     "output_type": "stream",
     "text": [
      "-- Information of the data --\n",
      "<class 'pandas.core.frame.DataFrame'>\n",
      "RangeIndex: 64 entries, 0 to 63\n",
      "Data columns (total 3 columns):\n",
      "Date     64 non-null object\n",
      "Sleep    64 non-null int64\n",
      "Wake     64 non-null int64\n",
      "dtypes: int64(2), object(1)\n",
      "memory usage: 1.6+ KB\n",
      "None\n"
     ]
    },
    {
     "data": {
      "text/html": [
       "<div>\n",
       "<style scoped>\n",
       "    .dataframe tbody tr th:only-of-type {\n",
       "        vertical-align: middle;\n",
       "    }\n",
       "\n",
       "    .dataframe tbody tr th {\n",
       "        vertical-align: top;\n",
       "    }\n",
       "\n",
       "    .dataframe thead th {\n",
       "        text-align: right;\n",
       "    }\n",
       "</style>\n",
       "<table border=\"1\" class=\"dataframe\">\n",
       "  <thead>\n",
       "    <tr style=\"text-align: right;\">\n",
       "      <th></th>\n",
       "      <th>Date</th>\n",
       "      <th>Sleep</th>\n",
       "      <th>Wake</th>\n",
       "    </tr>\n",
       "  </thead>\n",
       "  <tbody>\n",
       "    <tr>\n",
       "      <th>0</th>\n",
       "      <td>12/1/2017</td>\n",
       "      <td>16</td>\n",
       "      <td>1</td>\n",
       "    </tr>\n",
       "    <tr>\n",
       "      <th>1</th>\n",
       "      <td>12/2/2017</td>\n",
       "      <td>19</td>\n",
       "      <td>-10</td>\n",
       "    </tr>\n",
       "    <tr>\n",
       "      <th>2</th>\n",
       "      <td>12/3/2017</td>\n",
       "      <td>-45</td>\n",
       "      <td>0</td>\n",
       "    </tr>\n",
       "    <tr>\n",
       "      <th>3</th>\n",
       "      <td>12/4/2017</td>\n",
       "      <td>8</td>\n",
       "      <td>1</td>\n",
       "    </tr>\n",
       "    <tr>\n",
       "      <th>4</th>\n",
       "      <td>12/5/2017</td>\n",
       "      <td>-23</td>\n",
       "      <td>-16</td>\n",
       "    </tr>\n",
       "  </tbody>\n",
       "</table>\n",
       "</div>"
      ],
      "text/plain": [
       "        Date  Sleep  Wake\n",
       "0  12/1/2017     16     1\n",
       "1  12/2/2017     19   -10\n",
       "2  12/3/2017    -45     0\n",
       "3  12/4/2017      8     1\n",
       "4  12/5/2017    -23   -16"
      ]
     },
     "execution_count": 2,
     "metadata": {},
     "output_type": "execute_result"
    }
   ],
   "source": [
    "data = pd.read_csv(\"sleep_wake.csv\")\n",
    "print(\"-- Information of the data --\")\n",
    "print(data.info())\n",
    "data.head()"
   ]
  },
  {
   "cell_type": "markdown",
   "metadata": {},
   "source": [
    "64 datos iniciales\n",
    "\n",
    "Se calcula la hora en que la persona durmió y despertó respecto al indicador de **Sleep** and **Wake**, incluyendo esta información en las columnas **Sleep_hour** y **Wake_hour**."
   ]
  },
  {
   "cell_type": "code",
   "execution_count": 3,
   "metadata": {
    "scrolled": true
   },
   "outputs": [
    {
     "data": {
      "text/html": [
       "<div>\n",
       "<style scoped>\n",
       "    .dataframe tbody tr th:only-of-type {\n",
       "        vertical-align: middle;\n",
       "    }\n",
       "\n",
       "    .dataframe tbody tr th {\n",
       "        vertical-align: top;\n",
       "    }\n",
       "\n",
       "    .dataframe thead th {\n",
       "        text-align: right;\n",
       "    }\n",
       "</style>\n",
       "<table border=\"1\" class=\"dataframe\">\n",
       "  <thead>\n",
       "    <tr style=\"text-align: right;\">\n",
       "      <th></th>\n",
       "      <th>Date</th>\n",
       "      <th>Sleep</th>\n",
       "      <th>Wake</th>\n",
       "      <th>Sleep_hour</th>\n",
       "      <th>Wake_hour</th>\n",
       "    </tr>\n",
       "  </thead>\n",
       "  <tbody>\n",
       "    <tr>\n",
       "      <th>0</th>\n",
       "      <td>2017-12-01</td>\n",
       "      <td>16</td>\n",
       "      <td>1</td>\n",
       "      <td>2017-12-01 22:16:00</td>\n",
       "      <td>2017-12-01 06:01:00</td>\n",
       "    </tr>\n",
       "    <tr>\n",
       "      <th>1</th>\n",
       "      <td>2017-12-02</td>\n",
       "      <td>19</td>\n",
       "      <td>-10</td>\n",
       "      <td>2017-12-02 22:19:00</td>\n",
       "      <td>2017-12-02 05:50:00</td>\n",
       "    </tr>\n",
       "    <tr>\n",
       "      <th>2</th>\n",
       "      <td>2017-12-03</td>\n",
       "      <td>-45</td>\n",
       "      <td>0</td>\n",
       "      <td>2017-12-03 21:15:00</td>\n",
       "      <td>2017-12-03 06:00:00</td>\n",
       "    </tr>\n",
       "    <tr>\n",
       "      <th>3</th>\n",
       "      <td>2017-12-04</td>\n",
       "      <td>8</td>\n",
       "      <td>1</td>\n",
       "      <td>2017-12-04 22:08:00</td>\n",
       "      <td>2017-12-04 06:01:00</td>\n",
       "    </tr>\n",
       "    <tr>\n",
       "      <th>4</th>\n",
       "      <td>2017-12-05</td>\n",
       "      <td>-23</td>\n",
       "      <td>-16</td>\n",
       "      <td>2017-12-05 21:37:00</td>\n",
       "      <td>2017-12-05 05:44:00</td>\n",
       "    </tr>\n",
       "  </tbody>\n",
       "</table>\n",
       "</div>"
      ],
      "text/plain": [
       "        Date  Sleep  Wake          Sleep_hour           Wake_hour\n",
       "0 2017-12-01     16     1 2017-12-01 22:16:00 2017-12-01 06:01:00\n",
       "1 2017-12-02     19   -10 2017-12-02 22:19:00 2017-12-02 05:50:00\n",
       "2 2017-12-03    -45     0 2017-12-03 21:15:00 2017-12-03 06:00:00\n",
       "3 2017-12-04      8     1 2017-12-04 22:08:00 2017-12-04 06:01:00\n",
       "4 2017-12-05    -23   -16 2017-12-05 21:37:00 2017-12-05 05:44:00"
      ]
     },
     "execution_count": 3,
     "metadata": {},
     "output_type": "execute_result"
    }
   ],
   "source": [
    "# definir hora de dormir y despertar\n",
    "data['Date'] = pd.to_datetime(data['Date'])\n",
    "data['Sleep_hour'] = [d + pd.DateOffset(minutes=m, hours=22) for d, m in zip(data['Date'], data['Sleep'])]\n",
    "data['Wake_hour'] = [d + pd.DateOffset(minutes=m, hours=6) for d, m in zip(data['Date'], data['Wake'])]\n",
    "data.head()"
   ]
  },
  {
   "cell_type": "code",
   "execution_count": 7,
   "metadata": {},
   "outputs": [],
   "source": [
    "def create_data(data, first_date, last_date, night_bot, night_top, morning_bot, morning_top):\n",
    "    # create sleep data\n",
    "    sleep_dates = pd.date_range(first_date, last_date, freq=\"1min\")\n",
    "    sleep_dates = sleep_dates[(sleep_dates.hour >= night_bot) & (sleep_dates.hour < night_top)]\n",
    "    offset = list(range(-30*(night_top-night_bot),30*(night_top-night_bot)))*63\n",
    "    is_sleep = []\n",
    "    \n",
    "    for date in sleep_dates:\n",
    "        for hour in data['Sleep_hour']:\n",
    "            if date.dayofyear == hour.dayofyear:\n",
    "                if date < hour:\n",
    "                    is_sleep.append(0)\n",
    "                else:\n",
    "                    is_sleep.append(1)\n",
    "    sleep_data = pd.DataFrame({'Date': sleep_dates, 'Sleep': is_sleep, 'Offset': offset})\n",
    "    \n",
    "    # create wake data\n",
    "    wake_dates = pd.date_range(first_date, last_date, freq=\"1min\")\n",
    "    wake_dates = wake_dates[(wake_dates.hour >= morning_bot) & (wake_dates.hour < morning_top)]\n",
    "    is_sleep = []\n",
    "\n",
    "    for date in wake_dates:\n",
    "        for hour in data['Wake_hour']:\n",
    "            if date.dayofyear == hour.dayofyear:\n",
    "                if date < hour:\n",
    "                    is_sleep.append(1)\n",
    "                else:\n",
    "                    is_sleep.append(0)\n",
    "    wake_data = pd.DataFrame({'Date': wake_dates, 'Sleep': is_sleep, 'Offset': offset})\n",
    "    \n",
    "    return sleep_data, wake_data"
   ]
  },
  {
   "cell_type": "code",
   "execution_count": 11,
   "metadata": {},
   "outputs": [],
   "source": [
    "first_date = min(data['Date'])\n",
    "last_date = max(data['Date'])\n",
    "sleep1, wake1 = create_data(data, first_date, last_date, 21, 23, 5, 7)\n",
    "sleep2, wake2 = create_data(data, first_date, last_date, 20, 24, 4, 8)"
   ]
  },
  {
   "cell_type": "code",
   "execution_count": 18,
   "metadata": {},
   "outputs": [
    {
     "name": "stdout",
     "output_type": "stream",
     "text": [
      "Observaciones dataset 1 - Datos de dormir: 7560 - Datos de despertar: 7560 \n",
      "Observaciones dataset 2 - Datos de dormir: 15120 - Datos de despertar: 15120 \n"
     ]
    }
   ],
   "source": [
    "print(\"Observaciones dataset 1 - Datos de dormir: %d - Datos de despertar: %d \" % (len(sleep1), len(wake1)))\n",
    "print(\"Observaciones dataset 2 - Datos de dormir: %d - Datos de despertar: %d \" % (len(sleep2), len(wake2)))\n"
   ]
  },
  {
   "cell_type": "code",
   "execution_count": 14,
   "metadata": {},
   "outputs": [],
   "source": [
    "sleep1.to_csv('sleep1_data.csv')\n",
    "wake1.to_csv('wake1_data.csv')\n",
    "sleep2.to_csv('sleep2_data.csv')\n",
    "wake2.to_csv('wake2_data.csv')"
   ]
  },
  {
   "cell_type": "markdown",
   "metadata": {},
   "source": [
    "Luego del preprocesamiento cada dataset tiene las columnas **Date** (fecha y hora de la medición), **Sleep** (booleano de si la persona está durmiendo=1 o no=0) y **Offset** que mide la distancia de **Date** a la hora media de dormir y despertar."
   ]
  },
  {
   "cell_type": "code",
   "execution_count": null,
   "metadata": {},
   "outputs": [],
   "source": []
  }
 ],
 "metadata": {
  "kernelspec": {
   "display_name": "Python 3",
   "language": "python",
   "name": "python3"
  },
  "language_info": {
   "codemirror_mode": {
    "name": "ipython",
    "version": 3
   },
   "file_extension": ".py",
   "mimetype": "text/x-python",
   "name": "python",
   "nbconvert_exporter": "python",
   "pygments_lexer": "ipython3",
   "version": "3.6.4"
  }
 },
 "nbformat": 4,
 "nbformat_minor": 2
}
