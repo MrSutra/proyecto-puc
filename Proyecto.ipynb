{
 "cells": [
  {
   "cell_type": "markdown",
   "metadata": {},
   "source": [
    "<img src=\"https://lies.mat.uc.cl/wp-content/uploads/2017/09/logo-uc-lineal-azul.png\" width=\"300px\" alt=\"puc logo\">\n",
    "\n",
    "<hr>\n",
    "<h3 align=\"center\"> Proyecto: Tópicos Avanzados en Inteligencia de Máquina </h3>\n",
    "<h3 align=\"center\"> Estudiantes: Fernanda Weiss (18406890) - Ignacio Espinoza (18406882)</h3>\n",
    "<hr>\n",
    "\n",
    "### Objetivos:\n",
    "- Para la segunda etapa\n",
    "(Avances), usted deberá presentar al menos listo el pre-processamiento necesario de los datos, junto con\n",
    "la implementación inicial del modelo y las primeras pruebas experimentales"
   ]
  },
  {
   "cell_type": "markdown",
   "metadata": {},
   "source": [
    "# 1) Pre-procesamiento de datos\n",
    "\n",
    "A continuación se realizará el pre-procesamiento de los datos. Primero se cargan las librerias necesarias para toda la experimentación.\n"
   ]
  },
  {
   "cell_type": "code",
   "execution_count": 1,
   "metadata": {},
   "outputs": [],
   "source": [
    "import numpy as np\n",
    "import pandas as pd\n",
    "from scipy.stats import norm, multivariate_normal, logistic, bernoulli\n",
    "import matplotlib.pyplot as plt\n",
    "%matplotlib inline\n",
    "plt.style.use('ggplot')"
   ]
  },
  {
   "cell_type": "markdown",
   "metadata": {},
   "source": [
    "Se cargan los archivos desde el dataset **sleep_wake**."
   ]
  },
  {
   "cell_type": "code",
   "execution_count": 2,
   "metadata": {},
   "outputs": [
    {
     "name": "stdout",
     "output_type": "stream",
     "text": [
      "-- Information of the data --\n",
      "<class 'pandas.core.frame.DataFrame'>\n",
      "RangeIndex: 64 entries, 0 to 63\n",
      "Data columns (total 3 columns):\n",
      "Date     64 non-null object\n",
      "Sleep    64 non-null int64\n",
      "Wake     64 non-null int64\n",
      "dtypes: int64(2), object(1)\n",
      "memory usage: 1.6+ KB\n",
      "None\n"
     ]
    },
    {
     "data": {
      "text/html": [
       "<div>\n",
       "<style scoped>\n",
       "    .dataframe tbody tr th:only-of-type {\n",
       "        vertical-align: middle;\n",
       "    }\n",
       "\n",
       "    .dataframe tbody tr th {\n",
       "        vertical-align: top;\n",
       "    }\n",
       "\n",
       "    .dataframe thead th {\n",
       "        text-align: right;\n",
       "    }\n",
       "</style>\n",
       "<table border=\"1\" class=\"dataframe\">\n",
       "  <thead>\n",
       "    <tr style=\"text-align: right;\">\n",
       "      <th></th>\n",
       "      <th>Date</th>\n",
       "      <th>Sleep</th>\n",
       "      <th>Wake</th>\n",
       "    </tr>\n",
       "  </thead>\n",
       "  <tbody>\n",
       "    <tr>\n",
       "      <th>0</th>\n",
       "      <td>12/1/2017</td>\n",
       "      <td>16</td>\n",
       "      <td>1</td>\n",
       "    </tr>\n",
       "    <tr>\n",
       "      <th>1</th>\n",
       "      <td>12/2/2017</td>\n",
       "      <td>19</td>\n",
       "      <td>-10</td>\n",
       "    </tr>\n",
       "    <tr>\n",
       "      <th>2</th>\n",
       "      <td>12/3/2017</td>\n",
       "      <td>-45</td>\n",
       "      <td>0</td>\n",
       "    </tr>\n",
       "    <tr>\n",
       "      <th>3</th>\n",
       "      <td>12/4/2017</td>\n",
       "      <td>8</td>\n",
       "      <td>1</td>\n",
       "    </tr>\n",
       "    <tr>\n",
       "      <th>4</th>\n",
       "      <td>12/5/2017</td>\n",
       "      <td>-23</td>\n",
       "      <td>-16</td>\n",
       "    </tr>\n",
       "  </tbody>\n",
       "</table>\n",
       "</div>"
      ],
      "text/plain": [
       "        Date  Sleep  Wake\n",
       "0  12/1/2017     16     1\n",
       "1  12/2/2017     19   -10\n",
       "2  12/3/2017    -45     0\n",
       "3  12/4/2017      8     1\n",
       "4  12/5/2017    -23   -16"
      ]
     },
     "execution_count": 2,
     "metadata": {},
     "output_type": "execute_result"
    }
   ],
   "source": [
    "data = pd.read_csv(\"sleep_wake.csv\")\n",
    "print(\"-- Information of the data --\")\n",
    "print(data.info())\n",
    "data.head()"
   ]
  },
  {
   "cell_type": "markdown",
   "metadata": {},
   "source": [
    "El dataset cuenta con 64 entradas donde cada una de estas posee tres atributos: **Date**, **Sleep** y **Wake**. **Date** indica la fecha a la que corresponde la medida, **Sleep** es una diferencia (en minutos) de la hora en que se durmió ese día respecto a la hora habitual de dormir (10:00 pm) y **Wake** es una diferencia (en minutos) entre la hora en que la persona despertó y la hora habitual de despertar (6:00 am). El primer atributo es una variable tipo *date* y los dos siguientes son enteros positivos y negativos."
   ]
  },
  {
   "cell_type": "code",
   "execution_count": 3,
   "metadata": {},
   "outputs": [
    {
     "data": {
      "text/html": [
       "<div>\n",
       "<style scoped>\n",
       "    .dataframe tbody tr th:only-of-type {\n",
       "        vertical-align: middle;\n",
       "    }\n",
       "\n",
       "    .dataframe tbody tr th {\n",
       "        vertical-align: top;\n",
       "    }\n",
       "\n",
       "    .dataframe thead th {\n",
       "        text-align: right;\n",
       "    }\n",
       "</style>\n",
       "<table border=\"1\" class=\"dataframe\">\n",
       "  <thead>\n",
       "    <tr style=\"text-align: right;\">\n",
       "      <th></th>\n",
       "      <th>Sleep</th>\n",
       "      <th>Wake</th>\n",
       "    </tr>\n",
       "  </thead>\n",
       "  <tbody>\n",
       "    <tr>\n",
       "      <th>count</th>\n",
       "      <td>64.000000</td>\n",
       "      <td>64.000000</td>\n",
       "    </tr>\n",
       "    <tr>\n",
       "      <th>mean</th>\n",
       "      <td>14.453125</td>\n",
       "      <td>13.953125</td>\n",
       "    </tr>\n",
       "    <tr>\n",
       "      <th>std</th>\n",
       "      <td>27.108793</td>\n",
       "      <td>43.977783</td>\n",
       "    </tr>\n",
       "    <tr>\n",
       "      <th>min</th>\n",
       "      <td>-53.000000</td>\n",
       "      <td>-57.000000</td>\n",
       "    </tr>\n",
       "    <tr>\n",
       "      <th>25%</th>\n",
       "      <td>-0.250000</td>\n",
       "      <td>-3.000000</td>\n",
       "    </tr>\n",
       "    <tr>\n",
       "      <th>50%</th>\n",
       "      <td>15.500000</td>\n",
       "      <td>1.000000</td>\n",
       "    </tr>\n",
       "    <tr>\n",
       "      <th>75%</th>\n",
       "      <td>27.500000</td>\n",
       "      <td>1.000000</td>\n",
       "    </tr>\n",
       "    <tr>\n",
       "      <th>max</th>\n",
       "      <td>87.000000</td>\n",
       "      <td>195.000000</td>\n",
       "    </tr>\n",
       "  </tbody>\n",
       "</table>\n",
       "</div>"
      ],
      "text/plain": [
       "           Sleep        Wake\n",
       "count  64.000000   64.000000\n",
       "mean   14.453125   13.953125\n",
       "std    27.108793   43.977783\n",
       "min   -53.000000  -57.000000\n",
       "25%    -0.250000   -3.000000\n",
       "50%    15.500000    1.000000\n",
       "75%    27.500000    1.000000\n",
       "max    87.000000  195.000000"
      ]
     },
     "execution_count": 3,
     "metadata": {},
     "output_type": "execute_result"
    }
   ],
   "source": [
    "data.describe()"
   ]
  },
  {
   "cell_type": "markdown",
   "metadata": {},
   "source": [
    "A pesar de que Sleep y Wake tengan una desviación estándar alta no es necesaria su normalización para el trabajo pues ambas variables se utilizan en contextos diferentes, no dependiendo una de la otra.\n",
    "\n",
    "Para poder trabajar con la hora exacta en que una persona se duerme o despierta, se calcula la hora en que ocurrieron estos eventos sumando las columnas **Sleep** y **Wake** a las respectivas horas habituales en que dichos eventos suceden (10:00 pm y 6:00 am). Así, se crean los nuevos atributos **Sleep_hour** y **Wake_hour**."
   ]
  },
  {
   "cell_type": "code",
   "execution_count": 4,
   "metadata": {
    "scrolled": true
   },
   "outputs": [
    {
     "data": {
      "text/html": [
       "<div>\n",
       "<style scoped>\n",
       "    .dataframe tbody tr th:only-of-type {\n",
       "        vertical-align: middle;\n",
       "    }\n",
       "\n",
       "    .dataframe tbody tr th {\n",
       "        vertical-align: top;\n",
       "    }\n",
       "\n",
       "    .dataframe thead th {\n",
       "        text-align: right;\n",
       "    }\n",
       "</style>\n",
       "<table border=\"1\" class=\"dataframe\">\n",
       "  <thead>\n",
       "    <tr style=\"text-align: right;\">\n",
       "      <th></th>\n",
       "      <th>Date</th>\n",
       "      <th>Sleep</th>\n",
       "      <th>Wake</th>\n",
       "      <th>Sleep_hour</th>\n",
       "      <th>Wake_hour</th>\n",
       "    </tr>\n",
       "  </thead>\n",
       "  <tbody>\n",
       "    <tr>\n",
       "      <th>0</th>\n",
       "      <td>2017-12-01</td>\n",
       "      <td>16</td>\n",
       "      <td>1</td>\n",
       "      <td>2017-12-01 22:16:00</td>\n",
       "      <td>2017-12-01 06:01:00</td>\n",
       "    </tr>\n",
       "    <tr>\n",
       "      <th>1</th>\n",
       "      <td>2017-12-02</td>\n",
       "      <td>19</td>\n",
       "      <td>-10</td>\n",
       "      <td>2017-12-02 22:19:00</td>\n",
       "      <td>2017-12-02 05:50:00</td>\n",
       "    </tr>\n",
       "    <tr>\n",
       "      <th>2</th>\n",
       "      <td>2017-12-03</td>\n",
       "      <td>-45</td>\n",
       "      <td>0</td>\n",
       "      <td>2017-12-03 21:15:00</td>\n",
       "      <td>2017-12-03 06:00:00</td>\n",
       "    </tr>\n",
       "    <tr>\n",
       "      <th>3</th>\n",
       "      <td>2017-12-04</td>\n",
       "      <td>8</td>\n",
       "      <td>1</td>\n",
       "      <td>2017-12-04 22:08:00</td>\n",
       "      <td>2017-12-04 06:01:00</td>\n",
       "    </tr>\n",
       "    <tr>\n",
       "      <th>4</th>\n",
       "      <td>2017-12-05</td>\n",
       "      <td>-23</td>\n",
       "      <td>-16</td>\n",
       "      <td>2017-12-05 21:37:00</td>\n",
       "      <td>2017-12-05 05:44:00</td>\n",
       "    </tr>\n",
       "  </tbody>\n",
       "</table>\n",
       "</div>"
      ],
      "text/plain": [
       "        Date  Sleep  Wake          Sleep_hour           Wake_hour\n",
       "0 2017-12-01     16     1 2017-12-01 22:16:00 2017-12-01 06:01:00\n",
       "1 2017-12-02     19   -10 2017-12-02 22:19:00 2017-12-02 05:50:00\n",
       "2 2017-12-03    -45     0 2017-12-03 21:15:00 2017-12-03 06:00:00\n",
       "3 2017-12-04      8     1 2017-12-04 22:08:00 2017-12-04 06:01:00\n",
       "4 2017-12-05    -23   -16 2017-12-05 21:37:00 2017-12-05 05:44:00"
      ]
     },
     "execution_count": 4,
     "metadata": {},
     "output_type": "execute_result"
    }
   ],
   "source": [
    "# definir hora de dormir y despertar\n",
    "data['Date'] = pd.to_datetime(data['Date'])\n",
    "data['Sleep_hour'] = [d + pd.DateOffset(minutes=m, hours=22) for d, m in zip(data['Date'], data['Sleep'])]\n",
    "data['Wake_hour'] = [d + pd.DateOffset(minutes=m, hours=6) for d, m in zip(data['Date'], data['Wake'])]\n",
    "data.head()"
   ]
  },
  {
   "cell_type": "markdown",
   "metadata": {},
   "source": [
    "Luego de agregar estas columnas se separan los datos en dos datasets, Sleep_data y Wake_data, uno para los datos de la persona cuando se va a dormir y otro para cuando va a despertar. La función **create_data** genera, para cada dataset, un conjunto de datos temporalmente equispaciado (cada 1 minuto). Esta nueva información indicará la fecha y hora de la medición con un rango de fecha dado por los datos de entrada, y un rango de hora entregado como parámetro. Además, se incluye un atributo booleano **Sleep** que toma valor 1 cuando la medición dice que la persona está durmiendo y 0 para cuando está despierta, y un **offset** que indica la diferencia (en minutos) de las horas medias de dormir y despertar mencionadas anteriormente."
   ]
  },
  {
   "cell_type": "code",
   "execution_count": 5,
   "metadata": {},
   "outputs": [],
   "source": [
    "def create_data(data, first_date, last_date, night_bot, night_top, morning_bot, morning_top):\n",
    "    # crear sleep data\n",
    "    sleep_dates = pd.date_range(first_date, last_date, freq=\"1min\")\n",
    "    sleep_dates = sleep_dates[(sleep_dates.hour >= night_bot) & (sleep_dates.hour < night_top)]\n",
    "    offset = list(range(-30*(night_top-night_bot),30*(night_top-night_bot)))*63\n",
    "    is_sleep = []\n",
    "    \n",
    "    for date in sleep_dates:\n",
    "        for hour in data['Sleep_hour']:\n",
    "            if date.dayofyear == hour.dayofyear:\n",
    "                if date < hour:\n",
    "                    is_sleep.append(0) # awake\n",
    "                else:\n",
    "                    is_sleep.append(1) # sleeping\n",
    "    sleep_data = pd.DataFrame({'Date': sleep_dates, 'Sleep': is_sleep, 'Offset': offset})\n",
    "    \n",
    "    # crear wake data\n",
    "    wake_dates = pd.date_range(first_date, last_date, freq=\"1min\")\n",
    "    wake_dates = wake_dates[(wake_dates.hour >= morning_bot) & (wake_dates.hour < morning_top)]\n",
    "    is_sleep = []\n",
    "\n",
    "    for date in wake_dates:\n",
    "        for hour in data['Wake_hour']:\n",
    "            if date.dayofyear == hour.dayofyear:\n",
    "                if date < hour:\n",
    "                    is_sleep.append(1) # sleeping\n",
    "                else:\n",
    "                    is_sleep.append(0) # awake\n",
    "    wake_data = pd.DataFrame({'Date': wake_dates, 'Sleep': is_sleep, 'Offset': offset})\n",
    "    \n",
    "    return sleep_data, wake_data"
   ]
  },
  {
   "cell_type": "markdown",
   "metadata": {},
   "source": [
    "Puesto que se manejan pocos datos será difícil que los modelos a entrenar puedan predecir bien datos futuro pues no podrán generalizar bien y existirá overfitting. La solución a esto se hará un preprocesamiento de datos que permita agregar información real a cada dataset. Nuestro supuesto es que con más datos se puede obtener un mejor modelamiento de la transición entre estados.\n",
    "\n",
    "Para tener un mayor espectro de análisis se generan dos dataset, el primero con un rango de $\\pm1$ hora de diferencia (21 a 23 pm y 5 a 7 am) y el segundo con $\\pm2$ horas de diferencia (20 a 24 pm y 4 a 8 am). Así el primer conjunto de datos con 15.120 datos y el segundo con 30.240 datos. Cabe recordar que dada la naturaleza del problema para un dataset la mitad de los datos se utilizan en el analisis de la transición a dormir y la otra mitad para despertar."
   ]
  },
  {
   "cell_type": "code",
   "execution_count": 6,
   "metadata": {},
   "outputs": [],
   "source": [
    "first_date = min(data['Date'])\n",
    "last_date = max(data['Date'])\n",
    "sleep1, wake1 = create_data(data, first_date, last_date, 21, 23, 5, 7)\n",
    "sleep2, wake2 = create_data(data, first_date, last_date, 20, 24, 4, 8)"
   ]
  },
  {
   "cell_type": "code",
   "execution_count": 7,
   "metadata": {},
   "outputs": [
    {
     "name": "stdout",
     "output_type": "stream",
     "text": [
      "Observaciones dataset 1 - Datos de dormir: 7560 - Datos de despertar: 7560 \n",
      "Observaciones dataset 2 - Datos de dormir: 15120 - Datos de despertar: 15120 \n"
     ]
    }
   ],
   "source": [
    "print(\"Observaciones dataset 1 - Datos de dormir: %d - Datos de despertar: %d \" % (len(sleep1), len(wake1)))\n",
    "print(\"Observaciones dataset 2 - Datos de dormir: %d - Datos de despertar: %d \" % (len(sleep2), len(wake2)))"
   ]
  },
  {
   "cell_type": "markdown",
   "metadata": {},
   "source": [
    "Posteriormente se exportan los datos para futuros trabajos."
   ]
  },
  {
   "cell_type": "code",
   "execution_count": 8,
   "metadata": {},
   "outputs": [],
   "source": [
    "sleep1.to_csv(\"sleep1_data.csv\")\n",
    "wake1.to_csv(\"wake1_data.csv\")\n",
    "sleep2.to_csv(\"sleep2_data.csv\")\n",
    "wake2.to_csv(\"wake2_data.csv\")"
   ]
  },
  {
   "cell_type": "markdown",
   "metadata": {},
   "source": [
    "Una vez terminado el preprocesamiento se grafican los datos para ver cómo estos se distribuyen en el tiempo. Los siguientes gráficos mostrarán puntos en donde su intensidad en color representará la frecuencia de datos en ese instante en específico. \n",
    "\n",
    "A continuación se presentan los gráficos para la transición despierto-dormido."
   ]
  },
  {
   "cell_type": "code",
   "execution_count": 9,
   "metadata": {},
   "outputs": [
    {
     "data": {
      "image/png": "[encoded data removed]",
      "text/plain": [
       "<Figure size 1080x360 with 1 Axes>"
      ]
     },
     "metadata": {},
     "output_type": "display_data"
    },
    {
     "data": {
      "image/png": "[encoded data removed]",
      "text/plain": [
       "<Figure size 1080x360 with 1 Axes>"
      ]
     },
     "metadata": {},
     "output_type": "display_data"
    }
   ],
   "source": [
    "sleep_labels = [\"20:00\", \"20:30\", \"21:00\", \"21:30\", \"22:00\", \"22:30\", \"23:00\", \"23:30\", \"24:00\"]\n",
    "\n",
    "plt.figure(figsize=(15, 5))\n",
    "plt.scatter(sleep1['Offset'], sleep1['Sleep'], s=60, alpha=0.01, c='g')\n",
    "plt.yticks([0, 1], [\"Despierto\", \"Dormido\"])\n",
    "plt.xlabel(\"Tiempo\")\n",
    "plt.title(\"Transición Despierto-Dormido (+-1 hora)\")\n",
    "plt.xticks([-60, -30, 0, 30, 60], sleep_labels[2:]);\n",
    "\n",
    "plt.figure(figsize=(15, 5))\n",
    "plt.scatter(sleep2['Offset'], sleep2['Sleep'], s=50, alpha=0.01, c='g')\n",
    "plt.yticks([0, 1], [\"Despierto\", \"Dormido\"])\n",
    "plt.xlabel(\"Tiempo\")\n",
    "plt.title(\"Transición Despierto-Dormido (+-2 horas)\")\n",
    "plt.xticks([-120, -90, -60, -30, 0, 30, 60, 90, 120], sleep_labels);"
   ]
  },
  {
   "cell_type": "markdown",
   "metadata": {},
   "source": [
    "Ahora, se muestran los datos de la transición dormido-despierto."
   ]
  },
  {
   "cell_type": "code",
   "execution_count": 10,
   "metadata": {},
   "outputs": [
    {
     "data": {
      "image/png": "[encoded data removed]",
      "text/plain": [
       "<Figure size 1080x360 with 1 Axes>"
      ]
     },
     "metadata": {},
     "output_type": "display_data"
    },
    {
     "data": {
      "image/png": "[encoded data removed]",
      "text/plain": [
       "<Figure size 1080x360 with 1 Axes>"
      ]
     },
     "metadata": {},
     "output_type": "display_data"
    }
   ],
   "source": [
    "wake_labels = [\"4:00\", \"4:30\", \"5:00\", \"5:30\", \"6:00\", \"6:30\", \"7:00\", \"7:30\", \"8:00\"]\n",
    "\n",
    "plt.figure(figsize=(15, 5))\n",
    "plt.scatter(wake1['Offset'], wake1['Sleep'], s=60, alpha=0.01, c='b')\n",
    "plt.yticks([1, 0], [\"Dormido\", \"Despierto\"])\n",
    "plt.xlabel(\"Tiempo\")\n",
    "plt.title(\"Transición Dormido-Despierto (+-1 hora)\")\n",
    "plt.xticks([-60, -30, 0, 30, 60], sleep_labels[2:]);\n",
    "\n",
    "plt.figure(figsize=(15, 5))\n",
    "plt.scatter(wake2['Offset'], wake2['Sleep'], s=50, alpha=0.01, c='b')\n",
    "plt.yticks([1, 0], [\"Dormido\", \"Despierto\"])\n",
    "plt.xlabel(\"Tiempo\")\n",
    "plt.title(\"Transición Dormido-Despierto (+-2 horas)\")\n",
    "plt.xticks([-120, -90, -60, -30, 0, 30, 60, 90, 120], sleep_labels);"
   ]
  },
  {
   "cell_type": "markdown",
   "metadata": {},
   "source": [
    "# 2) Función logística\n",
    "\n",
    "\n",
    "\n",
    "\\\\[f(t) = \\frac{1}{1+e^{-\\beta t}}\\\\]\n",
    "\n"
   ]
  },
  {
   "cell_type": "code",
   "execution_count": 11,
   "metadata": {},
   "outputs": [
    {
     "data": {
      "image/png": "[encoded data removed]",
      "text/plain": [
       "<Figure size 1080x504 with 1 Axes>"
      ]
     },
     "metadata": {},
     "output_type": "display_data"
    }
   ],
   "source": [
    "logistic = lambda x, beta : 1 / (1 + np.exp(-beta * x))\n",
    "\n",
    "x = np.linspace(-5,5,1000)\n",
    "beta = [-10, -5, -1, 1, 5, 10]\n",
    "\n",
    "plt.figure(figsize=(15,7))\n",
    "for b in beta:\n",
    "    plt.plot(x, logistic(x, b), label=\"Beta=\"+str(b))\n",
    "plt.title(\"Función logística con diferentes parámetros de Beta\")\n",
    "plt.legend()\n",
    "plt.show()"
   ]
  },
  {
   "cell_type": "markdown",
   "metadata": {},
   "source": [
    "# Regresión logística\n",
    "\n",
    "Como necesitamos una función que modele el problema y que no necesariamente esté centrada simétricamente en cero se utilizará la ecuación de Regresión logística, donde el término $\\beta_0$ permitirá que la curva pueda moverse en el eje x. Con esto $\\beta_0$ cambiará la ubicación de la curva y $\\beta_1$ determinará la pendiende y dirreción.\n",
    "\n",
    "\\\\[f(t) = \\frac{1}{1+e^{-(\\beta_0+\\beta_1*t)}}\\\\]"
   ]
  },
  {
   "cell_type": "code",
   "execution_count": 12,
   "metadata": {},
   "outputs": [
    {
     "data": {
      "image/png": "[encoded data removed]",
      "text/plain": [
       "<Figure size 1080x504 with 1 Axes>"
      ]
     },
     "metadata": {},
     "output_type": "display_data"
    }
   ],
   "source": [
    "reg_logistic = lambda x, beta0, beta1 : 1 / (1 + np.exp(-(beta0 + beta1*x)))\n",
    "\n",
    "x = np.linspace(-6,10,1000)\n",
    "plt.figure(figsize=(15,7))\n",
    "plt.plot(x, reg_logistic(x, 1, -0.5), label=\"beta0=1 beta1=-0.5\")\n",
    "plt.plot(x, reg_logistic(x, 2, 1), label=\"beta0=2 beta1=1\")\n",
    "plt.plot(x, reg_logistic(x, -5,1), label=\"beta0=-5 beta1=1\")\n",
    "plt.plot(x, reg_logistic(x, 1,-5), label=\"beta0=1 beta1=-5\")\n",
    "plt.legend()\n",
    "plt.show()"
   ]
  },
  {
   "cell_type": "markdown",
   "metadata": {},
   "source": [
    "# Modelomiento de los datos\n",
    "\n",
    "Regresión logística bayesiana: las componentes dentro del *framework* bayesiano aosiado a la estimación de parámetros son: la distribución *prior*, la función de verosimilitud o *likelihood*, y la distribución a posterior. Estos términos se relacionan mediante la Regla de Bayes de la siguiente forma\n",
    "\n",
    "\\\\[Posterior \\propto Likelihood * Prior \\\\]\n",
    "\n",
    "Por lo tanto la distribución a posterior contiene la información entregada por los datos, contenida en la likelihood, y la información que se tiene como conocimiento previo o proveniente de otras fuentes de información, contenida en el prior.\n",
    "\n",
    "La función de likelihood, como se dijo anteriormente, contiene la información de los datos y proviene de una inferencia frecuentista. Dada la probabilidad de exito  la contribución del i-ésimo elemento se modela con una distribución binomial\n",
    "\n",
    "### Por favor, ver propuesta modificada para más detalle. Luego se agregarán dichos detalles en este formato."
   ]
  },
  {
   "cell_type": "code",
   "execution_count": 133,
   "metadata": {},
   "outputs": [],
   "source": [
    "#Proposal distribution para los algoritmos a utilizar\n",
    "mu = [0,0]\n",
    "cov = 100*np.identity(2)\n",
    "q = lambda x, mu: multivariate_normal.pdf(x, mu, cov)\n",
    "#likelihood = lambda x, y, b0, b1: np.prod(bernoulli.pmf(y,reg_logistic(x, b0, b1)))\n",
    "\n",
    "#Posterior p objetivo, la cual es complicada \n",
    "log_likelihood = lambda x, y, b0, b1: np.sum(np.log(bernoulli.pmf(y,reg_logistic(x, b0, b1)) + epsilon))\n",
    "prior = lambda beta, mu, cov: multivariate_normal.pdf(beta, mu, cov)\n",
    "p = lambda x, y, b0, b1, mu, cov: np.exp(log_likelihood(x, y, b0, b1)) * prior([b0, b1], mu, cov)"
   ]
  },
  {
   "cell_type": "code",
   "execution_count": 134,
   "metadata": {
    "scrolled": false
   },
   "outputs": [
    {
     "name": "stdout",
     "output_type": "stream",
     "text": [
      "-18809.83207481519\n",
      "0.0015818990039764408\n"
     ]
    },
    {
     "data": {
      "text/plain": [
       "0.0"
      ]
     },
     "execution_count": 134,
     "metadata": {},
     "output_type": "execute_result"
    }
   ],
   "source": [
    "#funciona!!\n",
    "print(log_likelihood(sleep1['Offset'], sleep1['Sleep'],1.1,-0.08))\n",
    "print(prior([1.1, -0.08], mu, cov))\n",
    "p(x=sleep1['Offset'], y= sleep1['Sleep'], b0 = -0.6416937832588723, b1 = -0.6865022025897677, mu = mu, cov = cov)"
   ]
  },
  {
   "cell_type": "code",
   "execution_count": 130,
   "metadata": {},
   "outputs": [
    {
     "name": "stdout",
     "output_type": "stream",
     "text": [
      "2.220446049250313e-16\n"
     ]
    },
    {
     "data": {
      "text/plain": [
       "0       1.000000e+00\n",
       "1       1.000000e+00\n",
       "2       1.000000e+00\n",
       "3       1.000000e+00\n",
       "4       1.000000e+00\n",
       "5       1.000000e+00\n",
       "6       1.000000e+00\n",
       "7       1.000000e+00\n",
       "8       1.000000e+00\n",
       "9       1.000000e+00\n",
       "10      1.000000e+00\n",
       "11      1.000000e+00\n",
       "12      1.000000e+00\n",
       "13      1.000000e+00\n",
       "14      1.000000e+00\n",
       "15      1.000000e+00\n",
       "16      1.000000e+00\n",
       "17      1.000000e+00\n",
       "18      1.000000e+00\n",
       "19      1.000000e+00\n",
       "20      1.000000e+00\n",
       "21      1.000000e+00\n",
       "22      1.000000e+00\n",
       "23      1.000000e+00\n",
       "24      1.000000e+00\n",
       "25      1.000000e+00\n",
       "26      1.000000e+00\n",
       "27      1.000000e+00\n",
       "28      1.000000e+00\n",
       "29      1.000000e+00\n",
       "            ...     \n",
       "7530    5.984013e-10\n",
       "7531    3.011956e-10\n",
       "7532    1.516019e-10\n",
       "7533    7.630646e-11\n",
       "7534    3.840771e-11\n",
       "7535    1.933200e-11\n",
       "7536    9.730554e-12\n",
       "7537    4.897825e-12\n",
       "7538    2.465350e-12\n",
       "7539    1.241004e-12\n",
       "7540    6.247490e-13\n",
       "7541    3.145674e-13\n",
       "7542    1.584426e-13\n",
       "7543    7.985977e-14\n",
       "7544    4.030638e-14\n",
       "7545    2.039784e-14\n",
       "7546    1.037720e-14\n",
       "7547    5.333474e-15\n",
       "7548    2.794799e-15\n",
       "7549    1.516998e-15\n",
       "7550    8.738381e-16\n",
       "7551    5.501141e-16\n",
       "7552    3.871730e-16\n",
       "7553    3.051593e-16\n",
       "7554    2.638790e-16\n",
       "7555    2.431013e-16\n",
       "7556    2.326431e-16\n",
       "7557    2.273792e-16\n",
       "7558    2.247297e-16\n",
       "7559    2.233961e-16\n",
       "Name: Offset, Length: 7560, dtype: float64"
      ]
     },
     "execution_count": 130,
     "metadata": {},
     "output_type": "execute_result"
    }
   ],
   "source": [
    "epsilon = np.finfo(float).eps\n",
    "print(epsilon)\n",
    "reg_logistic(sleep1['Offset'],  -0.5605186529406065,  -0.6865022025897677) + epsilon"
   ]
  },
  {
   "cell_type": "markdown",
   "metadata": {},
   "source": [
    "## Metropolis Hasting\n",
    "\n",
    "Nuestra proposal distribution será la función Q para este caso será una normal bivariada de donde se obtendrán las muestras preliminares de las betas en cada iteración. La función P que queremos estimar es nuestra distribución posterior que fue definida anteriormente como p."
   ]
  },
  {
   "cell_type": "code",
   "execution_count": 98,
   "metadata": {},
   "outputs": [],
   "source": [
    "def q_bs(betas, cov):\n",
    "    b0,b1 = 2,2\n",
    "    while (b0<=-1 or b0>=1) or (b1<=-1 or b1>=1):\n",
    "        b0,b1 = np.random.multivariate_normal(betas,cov)\n",
    "        #print(b0,b1)\n",
    "    return [b0,b1]\n",
    "\n",
    "def metroplis_hasting(iterations, p, q, b0, b1, mu, cov, x, y):\n",
    "    while p(x, y, b0, b1, mu, cov) <= 0:\n",
    "        b0,b1 = np.random.uniform(-0,1,2)\n",
    "    print(\"b0: %f , b1: %f\" % (b0,b1))\n",
    "    \n",
    "    samples = [[b0,b1]]\n",
    "    for t in range(iterations):\n",
    "        b_s = q_bs(samples[t],cov)\n",
    "        print(\"b_s\", b_s)\n",
    "        aux = np.log(p(x,y,b_s[0],b_s[1],mu,cov))-np.log(p(x,y,samples[t][0],samples[t][1],mu,cov))+np.log(q(b_s,samples[t]))-np.log(q(samples[t],b_s))\n",
    "        print(\"1 \", np.log(p(x,y,b_s[0],b_s[1],mu,cov)), \", 2 \", np.log(p(x,y,samples[t][0],samples[t][1],mu,cov)), \", 3 \", np.log(q(b_s,samples[t])), \", 4 \", np.log(q(samples[t],b_s)))\n",
    "        print(\"aux\",aux)\n",
    "        alpha = np.exp(min(aux,0))\n",
    "        u = np.random.uniform(0,1,1)\n",
    "        print(\"alpha %f and u %f\"%(alpha,u))\n",
    "        if u < alpha:\n",
    "            samples.append(b_s)\n",
    "        else:\n",
    "            samples.append(samples[t])\n",
    "    return samples"
   ]
  },
  {
   "cell_type": "code",
   "execution_count": 96,
   "metadata": {},
   "outputs": [
    {
     "name": "stdout",
     "output_type": "stream",
     "text": [
      "b0: 0.010000 , b1: -0.080000\n",
      "b_s [0.9959368882641507, 0.5386198855850288]\n",
      "aux 3.129650241628319\n",
      "alpha 1.000000 and u 0.611930\n",
      "b_s [-0.9626043658627251, 0.1037299342472745]\n",
      "aux 19.379255943084218\n",
      "alpha 1.000000 and u 0.828950\n",
      "b_s [-0.5605186529406065, 0.6525860262650898]\n",
      "aux -inf\n",
      "alpha 0.000000 and u 0.157410\n",
      "b_s [0.4309625372817184, -0.1964435291957411]\n",
      "aux -59.02718414617747\n",
      "alpha 0.000000 and u 0.409844\n"
     ]
    },
    {
     "name": "stderr",
     "output_type": "stream",
     "text": [
      "/home/nacho/anaconda3/envs/redesneuronales/lib/python3.6/site-packages/ipykernel_launcher.py:8: RuntimeWarning: divide by zero encountered in log\n",
      "  \n",
      "/home/nacho/anaconda3/envs/redesneuronales/lib/python3.6/site-packages/ipykernel_launcher.py:17: RuntimeWarning: divide by zero encountered in log\n"
     ]
    },
    {
     "name": "stdout",
     "output_type": "stream",
     "text": [
      "b_s [0.7572438435905767, -0.46853760021688406]\n",
      "aux -145.23342437714436\n",
      "alpha 0.000000 and u 0.163535\n",
      "b_s [-0.10881682430592987, 0.8455972951399978]\n",
      "aux -inf\n",
      "alpha 0.000000 and u 0.305565\n",
      "b_s [0.8214252752746195, 0.1351036140729338]\n",
      "aux -3.268941369676864\n",
      "alpha 0.038047 and u 0.581715\n",
      "b_s [0.16506902450779093, 0.06274926052054869]\n",
      "aux -0.4194467349995499\n",
      "alpha 0.657410 and u 0.952943\n",
      "b_s [-0.8734826770536729, -0.08077221153285927]\n",
      "aux -21.76949460455169\n",
      "alpha 0.000000 and u 0.481766\n",
      "b_s [0.023757590846645638, 0.13453084597238546]\n",
      "aux -1.9064307442558706\n",
      "alpha 0.148610 and u 0.124906\n",
      "b_s [-0.1626087096494997, -0.03006038460261018]\n",
      "aux -6.8491968229642834\n",
      "alpha 0.001060 and u 0.793922\n",
      "b_s [0.43697560828374316, 0.13666032770748818]\n",
      "aux -0.7144808590113128\n",
      "alpha 0.489446 and u 0.553673\n",
      "b_s [0.2963157862982021, 0.6593505003313687]\n",
      "aux -inf\n",
      "alpha 0.000000 and u 0.592205\n",
      "b_s [0.6924699768979617, -0.3554351285378639]\n",
      "aux -107.55277638792985\n",
      "alpha 0.000000 and u 0.083173\n",
      "b_s [0.8162251748005588, 0.3681832787478233]\n",
      "aux -10.24027280642936\n",
      "alpha 0.000036 and u 0.789760\n",
      "b_s [-0.3032724786571044, 0.6187217008696908]\n",
      "aux -19.003312147058363\n",
      "alpha 0.000000 and u 0.110077\n",
      "b_s [-0.5555937797740982, -0.4614963641623226]\n",
      "aux -139.297925040306\n",
      "alpha 0.000000 and u 0.024154\n",
      "b_s [-0.6991785093091087, -0.08527072963836987]\n",
      "aux -21.30791992790511\n",
      "alpha 0.000000 and u 0.356046\n",
      "b_s [-0.7637454252463582, -0.8892588410208944]\n",
      "aux -inf\n",
      "alpha 0.000000 and u 0.502837\n",
      "b_s [0.28002732461257773, 0.13579207713828473]\n",
      "aux -0.4281457894237928\n",
      "alpha 0.651716 and u 0.535520\n",
      "b_s [0.4368025109780117, -0.8105586794227142]\n",
      "aux -inf\n",
      "alpha 0.000000 and u 0.780673\n",
      "b_s [0.27603931439154045, 0.43558231596082314]\n",
      "aux -11.795204014189279\n",
      "alpha 0.000008 and u 0.073281\n",
      "b_s [-0.6092639257641893, -0.7425978985891157]\n",
      "aux -inf\n",
      "alpha 0.000000 and u 0.637816\n",
      "b_s [-0.5863816411071197, 0.9060884348903362]\n",
      "aux -inf\n",
      "alpha 0.000000 and u 0.863318\n",
      "b_s [0.3058078796088526, -0.023439447708830052]\n",
      "aux -5.719473067729559\n",
      "alpha 0.003281 and u 0.068926\n",
      "b_s [-0.9376219289266263, 0.7902905362248025]\n",
      "aux -inf\n",
      "alpha 0.000000 and u 0.235609\n",
      "b_s [0.803837116492388, 0.9189528692875155]\n",
      "aux -inf\n",
      "alpha 0.000000 and u 0.011868\n",
      "b_s [-0.08028810389964336, -0.6335096004770444]\n",
      "aux -inf\n",
      "alpha 0.000000 and u 0.050716\n",
      "b_s [0.19082313988412358, -0.6250156188200482]\n",
      "aux -inf\n",
      "alpha 0.000000 and u 0.597833\n",
      "b_s [-0.5585326062879153, -0.08483284672478048]\n",
      "aux -20.884780651979376\n",
      "alpha 0.000000 and u 0.949485\n",
      "b_s [-0.7673477502828556, -0.7320525303178236]\n",
      "aux -inf\n",
      "alpha 0.000000 and u 0.547756\n",
      "b_s [0.3140024370051143, 0.5693936059491091]\n",
      "aux -17.391799229069427\n",
      "alpha 0.000000 and u 0.722962\n",
      "b_s [-0.2975148076566274, 0.31236883824330086]\n",
      "aux -5.945784303766767\n",
      "alpha 0.002617 and u 0.911783\n",
      "b_s [0.04208697678079845, 0.9438814763964514]\n",
      "aux -inf\n",
      "alpha 0.000000 and u 0.165797\n",
      "b_s [-0.10112177766808411, 0.8071943531271251]\n",
      "aux -inf\n",
      "alpha 0.000000 and u 0.480432\n",
      "b_s [0.6743363706305832, 0.4571085675501551]\n",
      "aux -13.245864324679712\n",
      "alpha 0.000002 and u 0.248755\n",
      "b_s [-0.026592691488463827, 0.699918290838403]\n",
      "aux -inf\n",
      "alpha 0.000000 and u 0.012988\n",
      "b_s [-0.35495356614301987, 0.29691550693320456]\n",
      "aux -5.244908155677805\n",
      "alpha 0.005274 and u 0.736866\n",
      "b_s [-0.6929682137972402, -0.8657837009141525]\n",
      "aux -inf\n",
      "alpha 0.000000 and u 0.764901\n",
      "b_s [-0.3830452174304039, -0.18535707179626643]\n",
      "aux -51.993868416196946\n",
      "alpha 0.000000 and u 0.220983\n",
      "b_s [-0.82604024699518, -0.022858579509519222]\n",
      "aux -4.632362742276715\n",
      "alpha 0.009732 and u 0.476048\n",
      "b_s [-0.72329081959367, -0.12225218178170855]\n",
      "aux -31.951176255373067\n",
      "alpha 0.000000 and u 0.610477\n",
      "b_s [0.7471403951167493, 0.8620348944064138]\n",
      "aux -inf\n",
      "alpha 0.000000 and u 0.391490\n",
      "b_s [-0.22054433691031938, -0.31328059169376526]\n",
      "aux -92.59164332525658\n",
      "alpha 0.000000 and u 0.883710\n",
      "b_s [0.7490199260385026, 0.2826402682561263]\n",
      "aux -6.269546626235501\n",
      "alpha 0.001893 and u 0.389515\n",
      "b_s [-0.7272482232919151, 0.07688224204174895]\n",
      "aux 2.7033069297575514\n",
      "alpha 1.000000 and u 0.663705\n",
      "b_s [-0.792491491556353, -0.3801132214373151]\n",
      "aux -115.3236765058031\n",
      "alpha 0.000000 and u 0.652754\n",
      "b_s [0.7985200021336527, -0.4916765230204968]\n",
      "aux -152.92820866081416\n",
      "alpha 0.000000 and u 0.829570\n",
      "b_s [0.8669518433912184, -0.6270108585903296]\n",
      "aux -inf\n",
      "alpha 0.000000 and u 0.939542\n",
      "b_s [0.7801225385237589, -0.30261326162330926]\n",
      "aux -93.24439804730667\n",
      "alpha 0.000000 and u 0.811804\n",
      "b_s [0.9488841951172251, 0.5183021373297712]\n",
      "aux -18.848457521554607\n",
      "alpha 0.000000 and u 0.766591\n",
      "b_s [0.6201224057223131, 0.7351951709987102]\n",
      "aux -inf\n",
      "alpha 0.000000 and u 0.250986\n",
      "b_s [-0.5692138544543842, -0.5276587790147254]\n",
      "aux -162.46769013160804\n",
      "alpha 0.000000 and u 0.763173\n",
      "b_s [0.1476746545878862, -0.1556140407247328]\n",
      "aux -46.19725925959919\n",
      "alpha 0.000000 and u 0.063101\n",
      "b_s [0.8358935393312039, -0.6777668860229209]\n",
      "aux -inf\n",
      "alpha 0.000000 and u 0.158531\n",
      "b_s [0.8884398494835613, -0.7029526626753024]\n",
      "aux -inf\n",
      "alpha 0.000000 and u 0.951521\n",
      "b_s [-0.19704874159131436, 0.027375145134970073]\n",
      "aux -0.9222265743707823\n",
      "alpha 0.397633 and u 0.730883\n",
      "b_s [-0.00473422773487675, 0.6182601443270394]\n",
      "aux -21.6834294803005\n",
      "alpha 0.000000 and u 0.373044\n",
      "b_s [0.2467768314941996, -0.042102172898361795]\n",
      "aux -12.714773177639579\n",
      "alpha 0.000003 and u 0.246204\n",
      "b_s [0.6647329900876962, -0.873608580423226]\n",
      "aux -inf\n",
      "alpha 0.000000 and u 0.161190\n",
      "b_s [0.7096822927710189, 0.36991480786099173]\n",
      "aux -12.428484619084303\n",
      "alpha 0.000004 and u 0.935425\n",
      "b_s [0.7723655192068046, 0.08091472763561945]\n",
      "aux -2.19784131787567\n",
      "alpha 0.111043 and u 0.227681\n",
      "b_s [0.37428074406520406, -0.9245939937391554]\n",
      "aux -inf\n",
      "alpha 0.000000 and u 0.932232\n",
      "b_s [0.29966985444297967, -0.2686262922883742]\n",
      "aux -81.94747809423828\n",
      "alpha 0.000000 and u 0.678396\n",
      "b_s [-0.3008411712720649, 0.6858747950368995]\n",
      "aux -inf\n",
      "alpha 0.000000 and u 0.377173\n",
      "b_s [0.623966500676947, -0.21109845580442546]\n",
      "aux -64.26597847016475\n",
      "alpha 0.000000 and u 0.214365\n",
      "b_s [0.07683974091985069, -0.04254789991134099]\n",
      "aux -12.523570789324989\n",
      "alpha 0.000004 and u 0.660032\n",
      "b_s [-0.6040295100972805, -0.4811735956363862]\n",
      "aux -147.68785596227966\n",
      "alpha 0.000000 and u 0.797755\n",
      "b_s [-0.7644861494175449, -0.35607387530714407]\n",
      "aux -107.79726285487847\n",
      "alpha 0.000000 and u 0.883563\n",
      "b_s [0.04023455872260617, 0.9826072452842569]\n",
      "aux -inf\n",
      "alpha 0.000000 and u 0.123767\n",
      "b_s [-0.5106490367436032, 0.26292174563434834]\n",
      "aux -6.38718681063512\n",
      "alpha 0.001683 and u 0.893491\n",
      "b_s [-0.8609740832050998, -0.3476599181193093]\n",
      "aux -104.93346476545815\n",
      "alpha 0.000000 and u 0.901468\n",
      "b_s [0.9060578478604726, 0.9489290919782699]\n",
      "aux -inf\n",
      "alpha 0.000000 and u 0.779460\n",
      "b_s [-0.10227942594755568, 0.06056330679310132]\n",
      "aux -0.3886792507950183\n",
      "alpha 0.677952 and u 0.402824\n",
      "b_s [-0.7209316694346231, 0.9616955559399302]\n",
      "aux -inf\n",
      "alpha 0.000000 and u 0.708154\n",
      "b_s [-0.32127541500794776, 0.5928051996557485]\n",
      "aux -19.78765550685086\n",
      "alpha 0.000000 and u 0.604512\n",
      "b_s [-0.7698610443349053, -0.0625898691504064]\n",
      "aux -16.675144318842616\n",
      "alpha 0.000000 and u 0.111936\n",
      "b_s [-0.3309572934430256, -0.5963589171595259]\n",
      "aux -184.3312153137439\n",
      "alpha 0.000000 and u 0.594704\n",
      "b_s [-0.8346891934762843, -0.12683466301580668]\n",
      "aux -35.53179224400269\n",
      "alpha 0.000000 and u 0.495240\n",
      "b_s [-0.7232519051602875, 0.5908541926819403]\n",
      "aux -19.127061467565294\n",
      "alpha 0.000000 and u 0.021949\n",
      "b_s [-0.01713250713100886, -0.5044004580924836]\n",
      "aux -155.7817782378845\n",
      "alpha 0.000000 and u 0.954835\n",
      "b_s [0.4332642450472295, -0.9014953900345583]\n",
      "aux -inf\n",
      "alpha 0.000000 and u 0.586062\n",
      "b_s [-0.6256018663493581, -0.13053983540888342]\n",
      "aux -36.924996027965896\n",
      "alpha 0.000000 and u 0.230383\n",
      "b_s [0.7413856547855578, -0.3757490939536493]\n",
      "aux -115.89624043368681\n",
      "alpha 0.000000 and u 0.543842\n",
      "b_s [-0.4961108151036494, 0.23070399604166203]\n",
      "aux -4.751353332943061\n",
      "alpha 0.008640 and u 0.100170\n",
      "b_s [-0.06655741276479372, 0.5959387021325447]\n",
      "aux -20.278600960554883\n",
      "alpha 0.000000 and u 0.074537\n",
      "b_s [-0.8057475877285873, 0.8265327886687506]\n",
      "aux -inf\n",
      "alpha 0.000000 and u 0.764249\n",
      "b_s [-0.7638057401205695, 0.2402488225557818]\n",
      "aux -4.801483176796064\n",
      "alpha 0.008218 and u 0.393473\n",
      "b_s [-0.06688890822883882, 0.7216974558986204]\n",
      "aux -inf\n",
      "alpha 0.000000 and u 0.011892\n",
      "b_s [0.18389986554947763, 0.05761047274713547]\n",
      "aux -0.41466933074899703\n",
      "alpha 0.660559 and u 0.176087\n",
      "b_s [0.6650158755803053, 0.11813881195377787]\n",
      "aux -2.0201546202734013\n",
      "alpha 0.132635 and u 0.708317\n"
     ]
    },
    {
     "name": "stdout",
     "output_type": "stream",
     "text": [
      "b_s [-0.35817280221846143, 0.16494759769212455]\n",
      "aux -2.0290382419544644\n",
      "alpha 0.131462 and u 0.344985\n",
      "b_s [0.7309013387579504, 0.256124887975479]\n",
      "aux -7.0941724466867475\n",
      "alpha 0.000830 and u 0.264856\n",
      "b_s [0.5691456742531997, 0.8040471842563174]\n",
      "aux -inf\n",
      "alpha 0.000000 and u 0.904814\n",
      "b_s [0.03546729745363017, -0.17413498574817915]\n",
      "aux -51.01078097033394\n",
      "alpha 0.000000 and u 0.141677\n",
      "b_s [0.2526432361631938, 0.6528314567931086]\n",
      "aux -inf\n",
      "alpha 0.000000 and u 0.743815\n",
      "b_s [0.06364750899772036, 0.4098887581011013]\n",
      "aux -12.335542405997366\n",
      "alpha 0.000004 and u 0.254811\n",
      "b_s [0.1874376285389765, -0.9725704870703226]\n",
      "aux -inf\n",
      "alpha 0.000000 and u 0.251049\n",
      "b_s [0.8306649663704857, 0.5235201914290716]\n",
      "aux -18.09929188376176\n",
      "alpha 0.000000 and u 0.838187\n",
      "b_s [-0.5233995572264103, 0.14468474607457435]\n",
      "aux -1.131615462236435\n",
      "alpha 0.322512 and u 0.489938\n"
     ]
    },
    {
     "data": {
      "text/plain": [
       "[[0.01, -0.08],\n",
       " [0.9959368882641507, 0.5386198855850288],\n",
       " [-0.9626043658627251, 0.1037299342472745],\n",
       " [-0.9626043658627251, 0.1037299342472745],\n",
       " [-0.9626043658627251, 0.1037299342472745],\n",
       " [-0.9626043658627251, 0.1037299342472745],\n",
       " [-0.9626043658627251, 0.1037299342472745],\n",
       " [-0.9626043658627251, 0.1037299342472745],\n",
       " [-0.9626043658627251, 0.1037299342472745],\n",
       " [-0.9626043658627251, 0.1037299342472745],\n",
       " [0.023757590846645638, 0.13453084597238546],\n",
       " [0.023757590846645638, 0.13453084597238546],\n",
       " [0.023757590846645638, 0.13453084597238546],\n",
       " [0.023757590846645638, 0.13453084597238546],\n",
       " [0.023757590846645638, 0.13453084597238546],\n",
       " [0.023757590846645638, 0.13453084597238546],\n",
       " [0.023757590846645638, 0.13453084597238546],\n",
       " [0.023757590846645638, 0.13453084597238546],\n",
       " [0.023757590846645638, 0.13453084597238546],\n",
       " [0.023757590846645638, 0.13453084597238546],\n",
       " [0.28002732461257773, 0.13579207713828473],\n",
       " [0.28002732461257773, 0.13579207713828473],\n",
       " [0.28002732461257773, 0.13579207713828473],\n",
       " [0.28002732461257773, 0.13579207713828473],\n",
       " [0.28002732461257773, 0.13579207713828473],\n",
       " [0.28002732461257773, 0.13579207713828473],\n",
       " [0.28002732461257773, 0.13579207713828473],\n",
       " [0.28002732461257773, 0.13579207713828473],\n",
       " [0.28002732461257773, 0.13579207713828473],\n",
       " [0.28002732461257773, 0.13579207713828473],\n",
       " [0.28002732461257773, 0.13579207713828473],\n",
       " [0.28002732461257773, 0.13579207713828473],\n",
       " [0.28002732461257773, 0.13579207713828473],\n",
       " [0.28002732461257773, 0.13579207713828473],\n",
       " [0.28002732461257773, 0.13579207713828473],\n",
       " [0.28002732461257773, 0.13579207713828473],\n",
       " [0.28002732461257773, 0.13579207713828473],\n",
       " [0.28002732461257773, 0.13579207713828473],\n",
       " [0.28002732461257773, 0.13579207713828473],\n",
       " [0.28002732461257773, 0.13579207713828473],\n",
       " [0.28002732461257773, 0.13579207713828473],\n",
       " [0.28002732461257773, 0.13579207713828473],\n",
       " [0.28002732461257773, 0.13579207713828473],\n",
       " [0.28002732461257773, 0.13579207713828473],\n",
       " [0.28002732461257773, 0.13579207713828473],\n",
       " [0.28002732461257773, 0.13579207713828473],\n",
       " [-0.7272482232919151, 0.07688224204174895],\n",
       " [-0.7272482232919151, 0.07688224204174895],\n",
       " [-0.7272482232919151, 0.07688224204174895],\n",
       " [-0.7272482232919151, 0.07688224204174895],\n",
       " [-0.7272482232919151, 0.07688224204174895],\n",
       " [-0.7272482232919151, 0.07688224204174895],\n",
       " [-0.7272482232919151, 0.07688224204174895],\n",
       " [-0.7272482232919151, 0.07688224204174895],\n",
       " [-0.7272482232919151, 0.07688224204174895],\n",
       " [-0.7272482232919151, 0.07688224204174895],\n",
       " [-0.7272482232919151, 0.07688224204174895],\n",
       " [-0.7272482232919151, 0.07688224204174895],\n",
       " [-0.7272482232919151, 0.07688224204174895],\n",
       " [-0.7272482232919151, 0.07688224204174895],\n",
       " [-0.7272482232919151, 0.07688224204174895],\n",
       " [-0.7272482232919151, 0.07688224204174895],\n",
       " [-0.7272482232919151, 0.07688224204174895],\n",
       " [-0.7272482232919151, 0.07688224204174895],\n",
       " [-0.7272482232919151, 0.07688224204174895],\n",
       " [-0.7272482232919151, 0.07688224204174895],\n",
       " [-0.7272482232919151, 0.07688224204174895],\n",
       " [-0.7272482232919151, 0.07688224204174895],\n",
       " [-0.7272482232919151, 0.07688224204174895],\n",
       " [-0.7272482232919151, 0.07688224204174895],\n",
       " [-0.7272482232919151, 0.07688224204174895],\n",
       " [-0.7272482232919151, 0.07688224204174895],\n",
       " [-0.7272482232919151, 0.07688224204174895],\n",
       " [-0.7272482232919151, 0.07688224204174895],\n",
       " [-0.10227942594755568, 0.06056330679310132],\n",
       " [-0.10227942594755568, 0.06056330679310132],\n",
       " [-0.10227942594755568, 0.06056330679310132],\n",
       " [-0.10227942594755568, 0.06056330679310132],\n",
       " [-0.10227942594755568, 0.06056330679310132],\n",
       " [-0.10227942594755568, 0.06056330679310132],\n",
       " [-0.10227942594755568, 0.06056330679310132],\n",
       " [-0.10227942594755568, 0.06056330679310132],\n",
       " [-0.10227942594755568, 0.06056330679310132],\n",
       " [-0.10227942594755568, 0.06056330679310132],\n",
       " [-0.10227942594755568, 0.06056330679310132],\n",
       " [-0.10227942594755568, 0.06056330679310132],\n",
       " [-0.10227942594755568, 0.06056330679310132],\n",
       " [-0.10227942594755568, 0.06056330679310132],\n",
       " [-0.10227942594755568, 0.06056330679310132],\n",
       " [-0.10227942594755568, 0.06056330679310132],\n",
       " [0.18389986554947763, 0.05761047274713547],\n",
       " [0.18389986554947763, 0.05761047274713547],\n",
       " [0.18389986554947763, 0.05761047274713547],\n",
       " [0.18389986554947763, 0.05761047274713547],\n",
       " [0.18389986554947763, 0.05761047274713547],\n",
       " [0.18389986554947763, 0.05761047274713547],\n",
       " [0.18389986554947763, 0.05761047274713547],\n",
       " [0.18389986554947763, 0.05761047274713547],\n",
       " [0.18389986554947763, 0.05761047274713547],\n",
       " [0.18389986554947763, 0.05761047274713547],\n",
       " [0.18389986554947763, 0.05761047274713547]]"
      ]
     },
     "execution_count": 96,
     "metadata": {},
     "output_type": "execute_result"
    }
   ],
   "source": [
    "b0,b1=0.01,-0.08\n",
    "metroplis_hasting(100, p, q, b0,b1, mu, cov, sleep1['Offset'], sleep1['Sleep'])"
   ]
  },
  {
   "cell_type": "markdown",
   "metadata": {},
   "source": [
    "Al generar las muestras con este método nos dimos cuentas que tenemos un problema numérico a pesar de estar trabajando las probabilidades con logaritmo. Estamos realizando pruebas para saber cuál es el problema. Sabemos que el problema es que la Bernoulli entrega probabiliad cero para algunos casos en que el resultado de la función logística se encuentra en sus límites (0 o 1)."
   ]
  },
  {
   "cell_type": "markdown",
   "metadata": {},
   "source": [
    "## Simulated Annealing"
   ]
  }
 ],
 "metadata": {
  "kernelspec": {
   "display_name": "Python 3",
   "language": "python",
   "name": "python3"
  },
  "language_info": {
   "codemirror_mode": {
    "name": "ipython",
    "version": 3
   },
   "file_extension": ".py",
   "mimetype": "text/x-python",
   "name": "python",
   "nbconvert_exporter": "python",
   "pygments_lexer": "ipython3",
   "version": "3.6.4"
  }
 },
 "nbformat": 4,
 "nbformat_minor": 2
}
